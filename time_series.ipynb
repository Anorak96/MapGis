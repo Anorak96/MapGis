{
 "cells": [
  {
   "cell_type": "code",
   "execution_count": null,
   "metadata": {},
   "outputs": [],
   "source": [
    "import os\n",
    "import numpy as np\n",
    "import matplotlib.pyplot as plt\n",
    "import pandas as pd\n",
    "import datetime as dt"
   ]
  },
  {
   "cell_type": "code",
   "execution_count": null,
   "metadata": {},
   "outputs": [],
   "source": [
    "data = \"C:\\\\Users\\\\IITA-GISguest2\\\\Downloads\\\\GIS\\\\data\\\\1990-2023.csv\""
   ]
  },
  {
   "cell_type": "code",
   "execution_count": null,
   "metadata": {},
   "outputs": [],
   "source": [
    "temp = pd.read_csv(data)\n",
    "temp"
   ]
  },
  {
   "cell_type": "code",
   "execution_count": null,
   "metadata": {},
   "outputs": [],
   "source": [
    "max_temp = temp[[\"Date\", \"Maximum Temperature\"]]\n",
    "min_temp = temp[[\"Date\", \"Minimum Temperature\"]]\n",
    "max_temp"
   ]
  },
  {
   "cell_type": "code",
   "execution_count": null,
   "metadata": {},
   "outputs": [],
   "source": [
    "max_temp.isnull().value_counts(), min_temp.isna().value_counts()"
   ]
  },
  {
   "cell_type": "code",
   "execution_count": null,
   "metadata": {},
   "outputs": [],
   "source": [
    "count = 0\n",
    "for mx, mn in zip(np.where(max_temp.isnull())[0], np.where(min_temp.isnull())[0]):\n",
    "    if mx != mn:\n",
    "        count += 1\n",
    "\n",
    "print(\"Number of Misaligned Values: \", count)"
   ]
  },
  {
   "cell_type": "code",
   "execution_count": null,
   "metadata": {},
   "outputs": [],
   "source": [
    "temp[\"Date\"] = pd.to_datetime(temp[\"Date\"])"
   ]
  },
  {
   "cell_type": "code",
   "execution_count": null,
   "metadata": {},
   "outputs": [],
   "source": [
    "max_temp = temp[[\"Date\", \"Maximum Temperature\"]].copy()\n",
    "min_temp = temp[[\"Date\", \"Minimum Temperature\"]].copy()\n",
    "max_temp.set_index(\"Date\", inplace=True)\n",
    "min_temp.set_index(\"Date\", inplace=True)\n",
    "max_temp.rename(columns={\"Maximum Temperature\": \"Tmax\"}, inplace=True)\n",
    "min_temp.rename(columns={\"Minimum Temperature\": \"Tmin\"}, inplace=True)"
   ]
  },
  {
   "cell_type": "code",
   "execution_count": null,
   "metadata": {},
   "outputs": [],
   "source": [
    "temps = max_temp.merge(min_temp, how=\"inner\", left_on=[\"Date\"], right_on=[\"Date\"])\n",
    "\n",
    "\n",
    "def avg_temp(row):\n",
    "\n",
    "    return (row.Tmax + row.Tmin) / 2\n",
    "\n",
    "\n",
    "temps[\"T\"] = temps.apply(avg_temp, axis=1)\n",
    "\n",
    "temps"
   ]
  },
  {
   "cell_type": "code",
   "execution_count": null,
   "metadata": {},
   "outputs": [],
   "source": [
    "temps.describe()"
   ]
  },
  {
   "cell_type": "markdown",
   "metadata": {},
   "source": [
    "1. Dry ~ Nov(11)-Mar(3)\n",
    "2. Wet ~ Apr(4)-Oct(10)"
   ]
  },
  {
   "cell_type": "code",
   "execution_count": null,
   "metadata": {},
   "outputs": [],
   "source": [
    "temp_season = temps.copy(deep=True)\n",
    "temp_season[\"month\"] = temp_season.index.month\n",
    "temp_season[\"season\"] = np.where(temp_season[\"month\"].between(4, 10), \"Wet\", \"Dry\")\n",
    "temp_season"
   ]
  },
  {
   "cell_type": "code",
   "execution_count": null,
   "metadata": {},
   "outputs": [],
   "source": [
    "temps[:].plot(figsize=(8, 7))\n",
    "plt.show()"
   ]
  },
  {
   "cell_type": "code",
   "execution_count": null,
   "metadata": {},
   "outputs": [],
   "source": [
    "temps[-5000:].plot(figsize=(8, 7))\n",
    "plt.show()"
   ]
  },
  {
   "cell_type": "code",
   "execution_count": null,
   "metadata": {},
   "outputs": [],
   "source": [
    "plt.figure(figsize=(8, 6))\n",
    "temps.Tmax.hist(bins=60, alpha=0.6, label=\"Tmax\")\n",
    "temps.Tmin.hist(bins=60, alpha=0.6, label=\"Tmin\")\n",
    "temps[\"T\"].hist(bins=60, alpha=0.6, label=\"T\")\n",
    "plt.legend()\n",
    "plt.show()"
   ]
  },
  {
   "cell_type": "code",
   "execution_count": null,
   "metadata": {},
   "outputs": [],
   "source": [
    "plt.figure(figsize=(8, 6))\n",
    "temp_season[temp_season[\"season\"] == \"Dry\"][\"T\"].hist(bins=60, alpha=0.8, label=\"Dry\")\n",
    "temp_season[temp_season[\"season\"] == \"Wet\"][\"T\"].hist(bins=60, alpha=0.8, label=\"Wet\")\n",
    "plt.legend()\n",
    "plt.show()"
   ]
  },
  {
   "cell_type": "markdown",
   "metadata": {},
   "source": [
    "Temperature Records"
   ]
  },
  {
   "cell_type": "code",
   "execution_count": null,
   "metadata": {},
   "outputs": [],
   "source": [
    "date_list = temps.index.tolist()\n",
    "mth_temps = (\n",
    "    pd.DataFrame(data=date_list, index=date_list).resample(\"MS\")[0].agg([\"min\", \"max\"])\n",
    ")\n",
    "mth_temps[\"month\"] = mth_temps.index.month\n",
    "\n",
    "\n",
    "def min_max_temps(row):\n",
    "    stats = temps[(temps.index >= row[\"min\"]) & (temps.index <= row[\"max\"])].agg(\n",
    "        [\"min\", \"max\"]\n",
    "    )\n",
    "    row[\"Tmax_max\"] = stats.loc[\"max\", \"Tmax\"]\n",
    "    row[\"Tmax_min\"] = stats.loc[\"min\", \"Tmax\"]\n",
    "    row[\"Tmin_max\"] = stats.loc[\"max\", \"Tmin\"]\n",
    "    row[\"Tmin_min\"] = stats.loc[\"min\", \"Tmin\"]\n",
    "    row[\"T_max\"] = stats.loc[\"max\", \"T\"]\n",
    "    row[\"T_min\"] = stats.loc[\"min\", \"T\"]\n",
    "    return row\n",
    "\n",
    "\n",
    "mth_temps = mth_temps.apply(min_max_temps, axis=1)\n",
    "mth_temps"
   ]
  },
  {
   "cell_type": "markdown",
   "metadata": {},
   "source": [
    "Temperature Extremes"
   ]
  },
  {
   "cell_type": "code",
   "execution_count": null,
   "metadata": {},
   "outputs": [],
   "source": [
    "grouped_mths = mth_temps.groupby(mth_temps.month)[\n",
    "    [\"Tmax_max\", \"Tmax_min\", \"Tmin_max\", \"Tmin_min\", \"T_max\", \"T_min\"]\n",
    "].agg([\"min\", \"max\"])\n",
    "\n",
    "grouped_mths[\"months\"] = [\n",
    "    \"Jan\",\n",
    "    \"Feb\",\n",
    "    \"Mar\",\n",
    "    \"Apr\",\n",
    "    \"May\",\n",
    "    \"Jun\",\n",
    "    \"Jul\",\n",
    "    \"Aug\",\n",
    "    \"Sep\",\n",
    "    \"Oct\",\n",
    "    \"Nov\",\n",
    "    \"Dec\",\n",
    "]\n",
    "\n",
    "grouped_mths = grouped_mths.set_index(\"months\")\n",
    "grouped_mths[\n",
    "    [(\"Tmax_max\", \"max\"), (\"Tmin_min\", \"min\"), (\"Tmax_min\", \"min\"), (\"Tmin_max\", \"max\")]\n",
    "]"
   ]
  },
  {
   "cell_type": "markdown",
   "metadata": {},
   "source": [
    "Decompose Time-Series Components"
   ]
  },
  {
   "cell_type": "code",
   "execution_count": null,
   "metadata": {},
   "outputs": [],
   "source": [
    "from statsmodels.graphics.api import qqplot\n",
    "from statsmodels.tsa.stattools import adfuller\n",
    "from statsmodels.tsa.seasonal import seasonal_decompose\n",
    "from statsmodels.graphics.tsaplots import plot_acf, plot_pacf\n",
    "from statsmodels.tsa.ar_model import AutoReg, ar_select_order, AutoRegResults"
   ]
  },
  {
   "cell_type": "code",
   "execution_count": null,
   "metadata": {},
   "outputs": [],
   "source": [
    "temps.sort_index(inplace=True)\n",
    "temps"
   ]
  },
  {
   "cell_type": "code",
   "execution_count": null,
   "metadata": {},
   "outputs": [],
   "source": [
    "temps[\"T\"].rolling(window=365 * 10).mean().plot(\n",
    "    figsize=(8, 6), color=\"tab:red\", title=\"Rolling mean over annual periods\"\n",
    ")"
   ]
  }
 ],
 "metadata": {
  "kernelspec": {
   "display_name": "gisenv",
   "language": "python",
   "name": "python3"
  },
  "language_info": {
   "codemirror_mode": {
    "name": "ipython",
    "version": 3
   },
   "file_extension": ".py",
   "mimetype": "text/x-python",
   "name": "python",
   "nbconvert_exporter": "python",
   "pygments_lexer": "ipython3",
   "version": "3.11.0"
  }
 },
 "nbformat": 4,
 "nbformat_minor": 2
}
