{
 "cells": [
  {
   "cell_type": "code",
   "execution_count": null,
   "metadata": {},
   "outputs": [],
   "source": [
    "import pandas as pd\n",
    "import numpy as np\n",
    "import scipy.stats as st\n",
    "import matplotlib.pyplot as plt\n",
    "import matplotlib.dates as mdates"
   ]
  },
  {
   "cell_type": "code",
   "execution_count": null,
   "metadata": {},
   "outputs": [],
   "source": [
    "data = pd.read_csv(\"data\\csv\\Prec Evapo 1993-2023.csv\", parse_dates=[\"Date\"])\n",
    "data.set_index(\"Date\", inplace=True)"
   ]
  },
  {
   "cell_type": "code",
   "execution_count": null,
   "metadata": {},
   "outputs": [],
   "source": [
    "def calculate_spei(precipitation, pet, window):\n",
    "    \"\"\"\n",
    "    Calculate the Standardized Precipitation-Evapotranspiration Index (SPEI).\n",
    "\n",
    "    Parameters:\n",
    "    - precipitation: pandas Series, precipitation data.\n",
    "    - pet: pandas Series, potential evapotranspiration data.\n",
    "    - window: int, rolling window size in months.\n",
    "\n",
    "    Returns:\n",
    "    - spei: pandas Series, SPEI values.\n",
    "    \"\"\"\n",
    "    # Calculate the water balance (D = P - PET)\n",
    "    deficit = precipitation - pet\n",
    "\n",
    "    # Rolling sum over the specified window\n",
    "    rolling_deficit = deficit.rolling(window=window, min_periods=1).sum()\n",
    "\n",
    "    # Fit Gamma distribution to rolling sums\n",
    "    rolling_deficit_safe = rolling_deficit.replace(\n",
    "        0, 1e-6\n",
    "    )  # Avoid log issues with zeros\n",
    "    gamma_cdf = st.gamma.cdf(\n",
    "        rolling_deficit_safe, a=2, scale=1\n",
    "    )  # Example params, adjust as needed\n",
    "\n",
    "    # Convert CDF to standard normal distribution (z-scores)\n",
    "    spei = st.norm.ppf(gamma_cdf)\n",
    "\n",
    "    return pd.Series(spei, index=precipitation.index)"
   ]
  },
  {
   "cell_type": "code",
   "execution_count": null,
   "metadata": {},
   "outputs": [],
   "source": [
    "times = [3, 6, 9, 12]\n",
    "for i in times:\n",
    "    data[\"spei_\" + str(i)] = calculate_spei(\n",
    "        data[\"precipitation\"], data[\"evapotranspiration\"], i\n",
    "    )"
   ]
  },
  {
   "cell_type": "code",
   "execution_count": null,
   "metadata": {},
   "outputs": [],
   "source": [
    "fig, axes = plt.subplots(nrows=4, figsize=(15, 10))\n",
    "plt.subplots_adjust(hspace=0.15)\n",
    "\n",
    "for i, ax in enumerate(axes):\n",
    "    col_scheme = np.where(data[\"spei_\" + str(times[i])] > 0, \"b\", \"r\")\n",
    "\n",
    "    ax.xaxis.set_major_formatter(mdates.DateFormatter(\"%Y\"))\n",
    "    ax.bar(\n",
    "        data.index,\n",
    "        data[\"spei_\" + str(times[i])],\n",
    "        width=25,\n",
    "        align=\"center\",\n",
    "        color=col_scheme,\n",
    "        label=\"SPEI \" + str(times[i]),\n",
    "    )\n",
    "    ax.axhline(y=0, color=\"k\")\n",
    "    ax.xaxis.set_major_locator(mdates.YearLocator(2))\n",
    "    ax.legend(loc=\"upper right\")\n",
    "    ax.set_yticks(range(-3, 4))\n",
    "    ax.set_yticklabels(range(-3, 4))\n",
    "    ax.set_ylabel(\"SPEI\", fontsize=12)\n",
    "\n",
    "    # Remove x-ticks from all but the last subplot\n",
    "    if i < len(times) - 1:\n",
    "        ax.set_xticks([], [])"
   ]
  },
  {
   "cell_type": "code",
   "execution_count": null,
   "metadata": {},
   "outputs": [],
   "source": [
    "plt.savefig(\"images/spei_plot.png\", dpi=300, bbox_inches=\"tight\")"
   ]
  }
 ],
 "metadata": {
  "kernelspec": {
   "display_name": "gisenv",
   "language": "python",
   "name": "python3"
  },
  "language_info": {
   "codemirror_mode": {
    "name": "ipython",
    "version": 3
   },
   "file_extension": ".py",
   "mimetype": "text/x-python",
   "name": "python",
   "nbconvert_exporter": "python",
   "pygments_lexer": "ipython3",
   "version": "3.11.0"
  }
 },
 "nbformat": 4,
 "nbformat_minor": 2
}
