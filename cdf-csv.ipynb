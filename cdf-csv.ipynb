{
 "cells": [
  {
   "cell_type": "code",
   "execution_count": null,
   "metadata": {},
   "outputs": [],
   "source": [
    "import netCDF4\n",
    "from netCDF4 import num2date\n",
    "import numpy as np\n",
    "import os\n",
    "import pandas as pd"
   ]
  },
  {
   "cell_type": "code",
   "execution_count": null,
   "metadata": {},
   "outputs": [],
   "source": [
    "df = netCDF4.Dataset(r\"data\\cdf\\gpcp_v02r03_monthly_d202401_c20240407.nc\")\n",
    "df.variables"
   ]
  },
  {
   "cell_type": "code",
   "execution_count": null,
   "metadata": {},
   "outputs": [],
   "source": [
    "t2m = df.variables[\"precip\"]"
   ]
  },
  {
   "cell_type": "code",
   "execution_count": null,
   "metadata": {},
   "outputs": [],
   "source": [
    "time_dim, lat_dim, lon_dim = t2m.get_dims()\n",
    "time_var = df.variables[time_dim.name]\n",
    "times = num2date(time_var[:], time_var.units)\n",
    "latitudes = df.variables[lat_dim.name][:]\n",
    "longitudes = df.variables[lon_dim.name][:]"
   ]
  },
  {
   "cell_type": "code",
   "execution_count": null,
   "metadata": {},
   "outputs": [],
   "source": [
    "output_dir = \"./\""
   ]
  },
  {
   "cell_type": "markdown",
   "metadata": {},
   "source": [
    "# =============================== METHOD 1 ============================\n",
    "# Extract each time as a 2D pandas DataFrame and write it to CSV\n",
    "# ====================================================================="
   ]
  },
  {
   "cell_type": "code",
   "execution_count": null,
   "metadata": {},
   "outputs": [],
   "source": [
    "filename = os.path.join(output_dir, \"table.csv\")\n",
    "print(f\"Writing data in tabular form to {filename} (this may take some time)...\")\n",
    "times_grid, latitudes_grid, longitudes_grid = [\n",
    "    x.flatten() for x in np.meshgrid(times, latitudes, longitudes, indexing=\"ij\")\n",
    "]\n",
    "df = pd.DataFrame(\n",
    "    {\n",
    "        \"time\": [t.isoformat() for t in times_grid],\n",
    "        \"latitude\": latitudes_grid,\n",
    "        \"longitude\": longitudes_grid,\n",
    "        \"t2m\": t2m[:].flatten(),\n",
    "    }\n",
    ")\n",
    "df.to_csv(filename, index=False)\n",
    "print(\"Done\")"
   ]
  },
  {
   "cell_type": "markdown",
   "metadata": {},
   "source": [
    "# =============================== METHOD 2 ============================\n",
    "# Write data as a table with 4 columns: time, latitude, longitude, value\n",
    "# ====================================================================="
   ]
  },
  {
   "cell_type": "code",
   "execution_count": null,
   "metadata": {},
   "outputs": [],
   "source": [
    "os.makedirs(output_dir, exist_ok=True)\n",
    "for i, t in enumerate(times):\n",
    "    filename = os.path.join(output_dir, f\"{t.isoformat()}.csv\")\n",
    "    print(f\"Writing time {t} to {filename}\")\n",
    "    df = pd.DataFrame(t2m[i, :, :], index=latitudes, columns=longitudes)\n",
    "    df.to_csv(filename)\n",
    "print(\"Done\")"
   ]
  }
 ],
 "metadata": {
  "kernelspec": {
   "display_name": "gisenv",
   "language": "python",
   "name": "python3"
  },
  "language_info": {
   "codemirror_mode": {
    "name": "ipython",
    "version": 3
   },
   "file_extension": ".py",
   "mimetype": "text/x-python",
   "name": "python",
   "nbconvert_exporter": "python",
   "pygments_lexer": "ipython3",
   "version": "3.11.0"
  }
 },
 "nbformat": 4,
 "nbformat_minor": 2
}
